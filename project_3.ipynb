{
  "nbformat": 4,
  "nbformat_minor": 0,
  "metadata": {
    "colab": {
      "name": "project-3",
      "provenance": [],
      "collapsed_sections": [],
      "authorship_tag": "ABX9TyN7nOtxhE3CH8r9JghObDtm",
      "include_colab_link": true
    },
    "kernelspec": {
      "name": "python3",
      "display_name": "Python 3"
    },
    "language_info": {
      "name": "python"
    }
  },
  "cells": [
    {
      "cell_type": "markdown",
      "metadata": {
        "id": "view-in-github",
        "colab_type": "text"
      },
      "source": [
        "<a href=\"https://colab.research.google.com/github/ArmaansPiano/project-3/blob/main/project_3.ipynb\" target=\"_parent\"><img src=\"https://colab.research.google.com/assets/colab-badge.svg\" alt=\"Open In Colab\"/></a>"
      ]
    },
    {
      "cell_type": "code",
      "metadata": {
        "id": "2n9LmYCE8i89"
      },
      "source": [
        "from sklearn import datasets\n",
        "wine=datasets.load_wine()"
      ],
      "execution_count": null,
      "outputs": []
    },
    {
      "cell_type": "code",
      "metadata": {
        "colab": {
          "base_uri": "https://localhost:8080/"
        },
        "id": "C5BE7pF883Zb",
        "outputId": "3177ea0e-e26c-4fc9-87ef-86f6ddcfdc0f"
      },
      "source": [
        "print(\"features\",wine.feature_names)\n",
        "print(\"labels\",wine.target_names)\n"
      ],
      "execution_count": null,
      "outputs": [
        {
          "output_type": "stream",
          "text": [
            "features ['alcohol', 'malic_acid', 'ash', 'alcalinity_of_ash', 'magnesium', 'total_phenols', 'flavanoids', 'nonflavanoid_phenols', 'proanthocyanins', 'color_intensity', 'hue', 'od280/od315_of_diluted_wines', 'proline']\n",
            "labels ['class_0' 'class_1' 'class_2']\n"
          ],
          "name": "stdout"
        }
      ]
    },
    {
      "cell_type": "code",
      "metadata": {
        "colab": {
          "base_uri": "https://localhost:8080/"
        },
        "id": "7BeobF8g9LH2",
        "outputId": "a6701c55-a37b-4730-b38c-ebd6e71a075f"
      },
      "source": [
        "from sklearn.model_selection import train_test_split\n",
        "x=wine.data\n",
        "y=wine.target\n",
        "x_train_1,x_test_1,y_train_1,y_test_1=train_test_split(x,y,test_size=0.3,random_state=42)\n",
        "from sklearn.naive_bayes import GaussianNB\n",
        "from sklearn.metrics import accuracy_score\n",
        "from sklearn.preprocessing import StandardScaler\n",
        "sc=StandardScaler()\n",
        "x_train_1=sc.fit_transform(x_train_1)\n",
        "x_test_1=sc.fit_transform(x_test_1)\n",
        "model_1=GaussianNB()\n",
        "model_1.fit(x_train_1,y_train_1)\n",
        "y_pred_1=model_1.predict(x_test_1)\n",
        "accuracy=accuracy_score(y_test_1,y_pred_1)\n",
        "print(accuracy)"
      ],
      "execution_count": null,
      "outputs": [
        {
          "output_type": "stream",
          "text": [
            "1.0\n"
          ],
          "name": "stdout"
        }
      ]
    }
  ]
}